{
  "nbformat": 4,
  "nbformat_minor": 0,
  "metadata": {
    "colab": {
      "provenance": [],
      "authorship_tag": "ABX9TyNxv36LFjFTyu2+TXwZmzOc",
      "include_colab_link": true
    },
    "kernelspec": {
      "name": "python3",
      "display_name": "Python 3"
    },
    "language_info": {
      "name": "python"
    }
  },
  "cells": [
    {
      "cell_type": "markdown",
      "metadata": {
        "id": "view-in-github",
        "colab_type": "text"
      },
      "source": [
        "<a href=\"https://colab.research.google.com/github/valerieorozcoo/In-Class-Assignment-1--VO/blob/main/In_Class_Assignment_January_27.ipynb\" target=\"_parent\"><img src=\"https://colab.research.google.com/assets/colab-badge.svg\" alt=\"Open In Colab\"/></a>"
      ]
    },
    {
      "cell_type": "code",
      "execution_count": null,
      "metadata": {
        "colab": {
          "base_uri": "https://localhost:8080/"
        },
        "id": "B-ljEMPCwzAC",
        "outputId": "7df66070-6b80-47dd-c6a4-479ed8863392"
      },
      "outputs": [
        {
          "output_type": "stream",
          "name": "stdout",
          "text": [
            "Please Provide Radius:5\n",
            "Please provide height of cylinder:10\n",
            "Area of cylinder = 471.0 sq. ft\n"
          ]
        }
      ],
      "source": [
        "#Surface Area of a Cylinder\n",
        "pi = 3.14\n",
        "radius = float(input('Please Provide Radius:'))\n",
        "height = float(input(\"Please provide height of cylinder:\"))\n",
        "\n",
        "area = (2*pi*(radius**2))+(2*pi*radius*height)\n",
        "print(f'Area of cylinder = {area} sq. ft')"
      ]
    },
    {
      "cell_type": "code",
      "source": [
        "fico = int(input(\"Please provide FICO score:\"))\n",
        "\n",
        "if fico >= 700:\n",
        "    print(\"Loan granted!\")\n",
        "else:\n",
        "  print(\"Loan denied!\")"
      ],
      "metadata": {
        "colab": {
          "base_uri": "https://localhost:8080/"
        },
        "id": "Tqqh6tSO6euF",
        "outputId": "8c22dc79-a6dd-4889-b1b5-e8056a6f7f56"
      },
      "execution_count": null,
      "outputs": [
        {
          "output_type": "stream",
          "name": "stdout",
          "text": [
            "Please provide FICO score:550\n",
            "Loan denied!\n"
          ]
        }
      ]
    },
    {
      "cell_type": "code",
      "source": [
        "fico = int(input(\"Please provide FICO score:\"))\n",
        "\n",
        "if fico >= 700:\n",
        "    print(\"Loan granted!\")\n",
        "elif fico < 700:\n",
        "  print(\"Loan denied!\")"
      ],
      "metadata": {
        "colab": {
          "base_uri": "https://localhost:8080/"
        },
        "id": "1OX2rLrW6hqw",
        "outputId": "fefd26c8-b136-44b4-ef63-120b47c55eae"
      },
      "execution_count": null,
      "outputs": [
        {
          "output_type": "stream",
          "name": "stdout",
          "text": [
            "Please provide FICO score:550\n",
            "Loan denied!\n"
          ]
        }
      ]
    },
    {
      "cell_type": "code",
      "source": [
        "num_grade = float(input(\"Please provide numeric grade:\"))\n",
        "\n",
        "if num_grade >= 83:\n",
        "    print(\"B\")\n",
        "elif num_grade >= 97:\n",
        "    print(\"A+\")\n",
        "elif num_grade >= 93:\n",
        "    print(\"A-\")\n",
        "elif num_grade >= 90:\n",
        "    print(\"A-\")\n",
        "elif num_grade >= 87:\n",
        "    print(\"B+\")\n",
        "\n"
      ],
      "metadata": {
        "colab": {
          "base_uri": "https://localhost:8080/"
        },
        "id": "EyCPdXHEicHz",
        "outputId": "0f992244-d893-421f-f880-43eb7c98aa5e"
      },
      "execution_count": null,
      "outputs": [
        {
          "output_type": "stream",
          "name": "stdout",
          "text": [
            "Please provide numeric grade:98\n",
            "B\n"
          ]
        }
      ]
    },
    {
      "cell_type": "code",
      "source": [
        "customer_type =input('Please enter customer type(N: new/E: existing):')\n",
        "deposit = float(input('Please enter deposit amount:'))\n",
        "\n",
        "if customer_type == 'N':\n",
        "  if deposit >= 10_000:\n",
        "   ir = 3.5\n",
        "  elif deposit >= 1_000:\n",
        "    ir =3.25\n",
        "  else:\n",
        "    ir =3.0\n",
        "else:\n",
        "  ir = 4\n",
        "total = (1+ ir/100)*deposit\n",
        "print(f'Total deposit = {total}:$')"
      ],
      "metadata": {
        "colab": {
          "base_uri": "https://localhost:8080/"
        },
        "id": "Ugc2TPACH58f",
        "outputId": "3efe218d-92ea-41d8-ca43-ad9459ad50bf"
      },
      "execution_count": null,
      "outputs": [
        {
          "output_type": "stream",
          "name": "stdout",
          "text": [
            "Please enter customer type(N: new/E: existing):n\n",
            "Please enter deposit amount:20000\n",
            "Total deposit = 20800.0:$\n"
          ]
        }
      ]
    },
    {
      "cell_type": "code",
      "source": [
        "#Creating a simple calculator\n",
        "num1 = float(input(\"Please provide first number:\"))\n",
        "num2 = float(input(\"Please provide second number:\"))\n",
        "s = input(\"Please provide operator(+, -, /, //, *, **, %):\")\n",
        "\n",
        "if s == '+':\n",
        "  print(f'{num1}+{num2}={num1+num2}')\n",
        "elif s == '-':\n",
        "  print(f'{num1}-{num2}={num1-num2}')\n",
        "elif s == '/':\n",
        "  print(f'{num1}/{num2}={num1/num2}')\n",
        "elif s == '//':\n",
        "  print(f'{num1}//{num2}={num1//num2}')\n",
        "elif s == '*':\n",
        "  print(f'{num1}*{num2}={num1*num2}')\n",
        "elif s == '**':\n",
        "  print(f'{num1}**{num2}={num1*num2}')\n",
        "elif s == '%':\n",
        "  print(f'{num1}%{num2}={num1%num2}')\n",
        "else:\n",
        "  print(\"Invalid operator\")"
      ],
      "metadata": {
        "colab": {
          "base_uri": "https://localhost:8080/"
        },
        "id": "NhMiEEgJka1i",
        "outputId": "6308e9b1-ff49-4015-ab98-5e1344ab455a"
      },
      "execution_count": null,
      "outputs": [
        {
          "output_type": "stream",
          "name": "stdout",
          "text": [
            "Please provide first number:3\n",
            "Please provide second number:9\n",
            "Please provide operator(+, -, /, //, *, **, %):*\n",
            "3.0*9.0=27.0\n"
          ]
        }
      ]
    },
    {
      "cell_type": "code",
      "source": [
        "#Parking Garage Initial Problem\n",
        "for hours in range(1,9) :\n",
        "    fee = 5 + (2.5 * hours)\n",
        "    if fee < 10 :\n",
        "      fee = 10.0\n",
        "    elif fee >= 20:\n",
        "      fee = 20.0\n",
        "    print(hours,fee)"
      ],
      "metadata": {
        "id": "t45m7jm5moix",
        "colab": {
          "base_uri": "https://localhost:8080/"
        },
        "outputId": "d0ef3292-89c9-4f55-b40a-7a50bc760229"
      },
      "execution_count": 12,
      "outputs": [
        {
          "output_type": "stream",
          "name": "stdout",
          "text": [
            "1 10.0\n",
            "2 10.0\n",
            "3 12.5\n",
            "4 15.0\n",
            "5 17.5\n",
            "6 20.0\n",
            "7 20.0\n",
            "8 20.0\n"
          ]
        }
      ]
    },
    {
      "cell_type": "code",
      "source": [
        "#Movie Theater - Initial Problem\n",
        "ticket = 10.0\n",
        "attendees = 20.0\n",
        "fixedCosts = 200.0\n",
        "\n",
        "for advertisingCost in range (0,201,25):\n",
        "  additionalAttendees = 2 * round(advertisingCost**0.5)\n",
        "  profit = (ticket * (attendees + additionalAttendees)) - (fixedCosts + advertisingCost)\n",
        "  print(advertisingCost,profit)\n",
        "\n"
      ],
      "metadata": {
        "colab": {
          "base_uri": "https://localhost:8080/"
        },
        "id": "Xwz_S92BOM0Q",
        "outputId": "f2064487-4d67-4898-c1b3-30385fe9cda7"
      },
      "execution_count": 20,
      "outputs": [
        {
          "output_type": "stream",
          "name": "stdout",
          "text": [
            "0 0.0\n",
            "25 75.0\n",
            "50 90.0\n",
            "75 105.0\n",
            "100 100.0\n",
            "125 95.0\n",
            "150 90.0\n",
            "175 85.0\n",
            "200 80.0\n"
          ]
        }
      ]
    },
    {
      "cell_type": "code",
      "source": [
        "#Movie Theater - Initial Problem IN CLASS\n",
        "print('Ad$' , 'Profit')\n",
        "for adcost in range (0,201,25):\n",
        "  additional = 2 * round(adcost**0.5)\n",
        "  profit = (20 + additional) * 10 - 200 - adcost\n",
        "  print(adcost,profit)"
      ],
      "metadata": {
        "colab": {
          "base_uri": "https://localhost:8080/"
        },
        "id": "aY8btc47R5Fl",
        "outputId": "dbda4ba0-ce46-4167-9f17-9280671b0b47"
      },
      "execution_count": 23,
      "outputs": [
        {
          "output_type": "stream",
          "name": "stdout",
          "text": [
            "Ad$ Profit\n",
            "0 0\n",
            "25 75\n",
            "50 90\n",
            "75 105\n",
            "100 100\n",
            "125 95\n",
            "150 90\n",
            "175 85\n",
            "200 80\n"
          ]
        }
      ]
    },
    {
      "cell_type": "code",
      "source": [],
      "metadata": {
        "id": "ByJWq1fAR7lQ"
      },
      "execution_count": null,
      "outputs": []
    }
  ]
}