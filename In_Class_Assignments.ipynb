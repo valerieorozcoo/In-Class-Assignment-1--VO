{
  "nbformat": 4,
  "nbformat_minor": 0,
  "metadata": {
    "colab": {
      "provenance": [],
      "authorship_tag": "ABX9TyMMkAzSu7ukd6fDAGjZUZOt",
      "include_colab_link": true
    },
    "kernelspec": {
      "name": "python3",
      "display_name": "Python 3"
    },
    "language_info": {
      "name": "python"
    }
  },
  "cells": [
    {
      "cell_type": "markdown",
      "metadata": {
        "id": "view-in-github",
        "colab_type": "text"
      },
      "source": [
        "<a href=\"https://colab.research.google.com/github/valerieorozcoo/In-Class-Assignment-1--VO/blob/main/In_Class_Assignments.ipynb\" target=\"_parent\"><img src=\"https://colab.research.google.com/assets/colab-badge.svg\" alt=\"Open In Colab\"/></a>"
      ]
    },
    {
      "cell_type": "code",
      "execution_count": null,
      "metadata": {
        "colab": {
          "base_uri": "https://localhost:8080/"
        },
        "id": "B-ljEMPCwzAC",
        "outputId": "7df66070-6b80-47dd-c6a4-479ed8863392"
      },
      "outputs": [
        {
          "output_type": "stream",
          "name": "stdout",
          "text": [
            "Please Provide Radius:5\n",
            "Please provide height of cylinder:10\n",
            "Area of cylinder = 471.0 sq. ft\n"
          ]
        }
      ],
      "source": [
        "#Surface Area of a Cylinder\n",
        "pi = 3.14\n",
        "radius = float(input('Please Provide Radius:'))\n",
        "height = float(input(\"Please provide height of cylinder:\"))\n",
        "\n",
        "area = (2*pi*(radius**2))+(2*pi*radius*height)\n",
        "print(f'Area of cylinder = {area} sq. ft')"
      ]
    },
    {
      "cell_type": "code",
      "source": [
        "fico = int(input(\"Please provide FICO score:\"))\n",
        "\n",
        "if fico >= 700:\n",
        "    print(\"Loan granted!\")\n",
        "else:\n",
        "  print(\"Loan denied!\")"
      ],
      "metadata": {
        "colab": {
          "base_uri": "https://localhost:8080/"
        },
        "id": "Tqqh6tSO6euF",
        "outputId": "8c22dc79-a6dd-4889-b1b5-e8056a6f7f56"
      },
      "execution_count": null,
      "outputs": [
        {
          "output_type": "stream",
          "name": "stdout",
          "text": [
            "Please provide FICO score:550\n",
            "Loan denied!\n"
          ]
        }
      ]
    },
    {
      "cell_type": "code",
      "source": [
        "fico = int(input(\"Please provide FICO score:\"))\n",
        "\n",
        "if fico >= 700:\n",
        "    print(\"Loan granted!\")\n",
        "elif fico < 700:\n",
        "  print(\"Loan denied!\")"
      ],
      "metadata": {
        "colab": {
          "base_uri": "https://localhost:8080/"
        },
        "id": "1OX2rLrW6hqw",
        "outputId": "fefd26c8-b136-44b4-ef63-120b47c55eae"
      },
      "execution_count": null,
      "outputs": [
        {
          "output_type": "stream",
          "name": "stdout",
          "text": [
            "Please provide FICO score:550\n",
            "Loan denied!\n"
          ]
        }
      ]
    },
    {
      "cell_type": "code",
      "source": [
        "num_grade = float(input(\"Please provide numeric grade:\"))\n",
        "\n",
        "if num_grade >= 83:\n",
        "    print(\"B\")\n",
        "elif num_grade >= 97:\n",
        "    print(\"A+\")\n",
        "elif num_grade >= 93:\n",
        "    print(\"A-\")\n",
        "elif num_grade >= 90:\n",
        "    print(\"A-\")\n",
        "elif num_grade >= 87:\n",
        "    print(\"B+\")\n",
        "\n"
      ],
      "metadata": {
        "colab": {
          "base_uri": "https://localhost:8080/"
        },
        "id": "EyCPdXHEicHz",
        "outputId": "ed803982-829e-46c1-c5e2-14f7996c279d"
      },
      "execution_count": null,
      "outputs": [
        {
          "output_type": "stream",
          "name": "stdout",
          "text": [
            "Please provide numeric grade:92.4\n",
            "B\n"
          ]
        }
      ]
    },
    {
      "cell_type": "code",
      "source": [
        "customer_type =input('Please enter customer type(N: new/E: existing):')\n",
        "deposit = float(input('Please enter deposit amount:'))\n",
        "\n",
        "if customer_type == 'N':\n",
        "  if deposit >= 10_000:\n",
        "   ir = 3.5\n",
        "  elif deposit >= 1_000:\n",
        "    ir =3.25\n",
        "  else:\n",
        "    ir =3.0\n",
        "else:\n",
        "  ir = 4\n",
        "total = (1+ ir/100)*deposit\n",
        "print(f'Total deposit = {total}:$')"
      ],
      "metadata": {
        "colab": {
          "base_uri": "https://localhost:8080/"
        },
        "id": "Ugc2TPACH58f",
        "outputId": "3efe218d-92ea-41d8-ca43-ad9459ad50bf"
      },
      "execution_count": null,
      "outputs": [
        {
          "output_type": "stream",
          "name": "stdout",
          "text": [
            "Please enter customer type(N: new/E: existing):n\n",
            "Please enter deposit amount:20000\n",
            "Total deposit = 20800.0:$\n"
          ]
        }
      ]
    },
    {
      "cell_type": "code",
      "source": [
        "#Creating a simple calculator\n",
        "num1 = float(input(\"Please provide first number:\"))\n",
        "num2 = float(input(\"Please provide second number:\"))\n",
        "s = input(\"Please provide operator(+, -, /, //, *, **, %):\")\n",
        "\n",
        "if s == '+':\n",
        "  print(f'{num1}+{num2}={num1+num2}')\n",
        "elif s == '-':\n",
        "  print(f'{num1}-{num2}={num1-num2}')\n",
        "elif s == '/':\n",
        "  print(f'{num1}/{num2}={num1/num2}')\n",
        "elif s == '//':\n",
        "  print(f'{num1}//{num2}={num1//num2}')\n",
        "elif s == '*':\n",
        "  print(f'{num1}*{num2}={num1*num2}')\n",
        "elif s == '**':\n",
        "  print(f'{num1}**{num2}={num1*num2}')\n",
        "elif s == '%':\n",
        "  print(f'{num1}%{num2}={num1%num2}')\n",
        "else:\n",
        "  print(\"Invalid operator\")"
      ],
      "metadata": {
        "colab": {
          "base_uri": "https://localhost:8080/"
        },
        "id": "NhMiEEgJka1i",
        "outputId": "6308e9b1-ff49-4015-ab98-5e1344ab455a"
      },
      "execution_count": null,
      "outputs": [
        {
          "output_type": "stream",
          "name": "stdout",
          "text": [
            "Please provide first number:3\n",
            "Please provide second number:9\n",
            "Please provide operator(+, -, /, //, *, **, %):*\n",
            "3.0*9.0=27.0\n"
          ]
        }
      ]
    },
    {
      "cell_type": "code",
      "source": [
        "#Parking Garage Initial Problem\n",
        "for hours in range(1,9) :\n",
        "    fee = 5 + (2.5 * hours)\n",
        "    if fee < 10 :\n",
        "      fee = 10.0\n",
        "    elif fee >= 20:\n",
        "      fee = 20.0\n",
        "    print(hours,fee)"
      ],
      "metadata": {
        "id": "t45m7jm5moix",
        "colab": {
          "base_uri": "https://localhost:8080/"
        },
        "outputId": "d0ef3292-89c9-4f55-b40a-7a50bc760229"
      },
      "execution_count": null,
      "outputs": [
        {
          "output_type": "stream",
          "name": "stdout",
          "text": [
            "1 10.0\n",
            "2 10.0\n",
            "3 12.5\n",
            "4 15.0\n",
            "5 17.5\n",
            "6 20.0\n",
            "7 20.0\n",
            "8 20.0\n"
          ]
        }
      ]
    },
    {
      "cell_type": "code",
      "source": [
        "#Movie Theater - Initial Problem IN CLASS\n",
        "print('Ad$' , 'Profit')\n",
        "for adcost in range (0,201,25):\n",
        "  additional = 2 * round(adcost**0.5)\n",
        "  profit = (20 + additional) * 10 - 200 - adcost\n",
        "  print(adcost,profit)"
      ],
      "metadata": {
        "colab": {
          "base_uri": "https://localhost:8080/"
        },
        "id": "aY8btc47R5Fl",
        "outputId": "dbda4ba0-ce46-4167-9f17-9280671b0b47"
      },
      "execution_count": null,
      "outputs": [
        {
          "output_type": "stream",
          "name": "stdout",
          "text": [
            "Ad$ Profit\n",
            "0 0\n",
            "25 75\n",
            "50 90\n",
            "75 105\n",
            "100 100\n",
            "125 95\n",
            "150 90\n",
            "175 85\n",
            "200 80\n"
          ]
        }
      ]
    },
    {
      "cell_type": "code",
      "source": [
        "#Rock Paper Scissors\n",
        "\n",
        "play = input('Do you want to play a game (yes/no)?')\n",
        "\n",
        "while play == 'yes':\n",
        "  p1 = input('Player 1 - Choose between rock/paper/scissors: ')\n",
        "  p2 = input('Player 2: Choose between rock/paper/scissors: ')\n",
        "\n",
        "  if p1 == p2:\n",
        "    print('Draw')\n",
        "  elif ((p1 == 'Rock' and p2 == 'Scissors') or\n",
        "   (p1 == 'Scissors' and p2 == 'Paper') or\n",
        "    (p1 == 'Paper' and p2 == 'Rock')):\n",
        "    print('Player 1 wins!')\n",
        "  else:\n",
        "    print('Player 2 wins!')\n",
        "\n",
        "  play = input('Do you want to play a new game (yes/no)?')\n",
        "\n",
        "print('Good day!')\n",
        "\n"
      ],
      "metadata": {
        "id": "kiXiQa7CjpnM"
      },
      "execution_count": null,
      "outputs": []
    },
    {
      "cell_type": "code",
      "source": [
        "#Rock-Paper_scissors-complex\n",
        "import random\n",
        "play = input(\"Do you want to play a game? (yes/no) \")\n",
        "\n",
        "while play == \"yes\":\n",
        "\n",
        "  p1 = input(\"Please enter rock, paper, or scissors: \")\n",
        "  p2 = random.choice([\"rock\", \"paper\", \"scissors\"]).capitalize()\n",
        "\n",
        "  print(f'Player chose {p1}; The computer chose {p2}')\n",
        "\n",
        "  if p1 == p2:\n",
        "    print(\"It's a tie!\")\n",
        "  elif ((p1 == \"rock\" and p2 == \"scissors\")\n",
        "  or (p1 == \"paper\" and p2 == \"rock\")\n",
        "  or (p1 == \"scissors\" and p2 == \"paper\")):\n",
        "    print(\"Player wins!\")\n",
        "  else:\n",
        "    print(\"Computer wins!\")\n",
        "\n",
        "  play = input(\"Do you want to play again? (yes/no)\")\n",
        "\n",
        "print(\"Thanks for playing!\")\n"
      ],
      "metadata": {
        "id": "0KOoZ3iPAbtu",
        "colab": {
          "base_uri": "https://localhost:8080/"
        },
        "outputId": "be9b89de-a43f-4996-fd9c-38470f652b42"
      },
      "execution_count": null,
      "outputs": [
        {
          "output_type": "stream",
          "name": "stdout",
          "text": [
            "Do you want to play a game? (yes/no) yes\n",
            "Please enter rock, paper, or scissors: paper\n",
            "Player chose paper; The computer chose Scissors\n",
            "Computer wins!\n",
            "Do you want to play again? (yes/no)paper\n",
            "Thanks for playing!\n"
          ]
        }
      ]
    },
    {
      "cell_type": "code",
      "source": [
        "#Empty list populating the list by asking the user for numerical inputs, process stops with 0\n",
        "lst = []\n",
        "\n",
        "num = float(input('Please provide a number: '))\n",
        "\n",
        "while num != 0:\n",
        "  lst.append(num)\n",
        "  num = float(input('Please provide a number: '))\n",
        "\n",
        "lst.sort(reverse=True)\n",
        "print(lst)\n",
        "\n",
        "\n"
      ],
      "metadata": {
        "colab": {
          "base_uri": "https://localhost:8080/"
        },
        "id": "TSTM2PaBPKYv",
        "outputId": "e492a2ed-eb50-42d0-e8a5-823dd9d1c77a"
      },
      "execution_count": null,
      "outputs": [
        {
          "output_type": "stream",
          "name": "stdout",
          "text": [
            "Please provide a number: 372\n",
            "Please provide a number: 4747\n",
            "Please provide a number: 973\n",
            "Please provide a number: 1\n",
            "Please provide a number: 0\n",
            "[4747.0, 973.0, 372.0, 1.0]\n"
          ]
        }
      ]
    },
    {
      "cell_type": "code",
      "source": [
        "#Create a dictionary\n",
        "months = {}\n",
        "\n",
        "names = [\"Jan\", \"Feb\", \"Mar\", \"Apr\", \"May\", \"Jun\", \"Jul\", \"Aug\", \"Sep\", \"Oct\", \"Nov\", \"Dec\"]\n",
        "numbers = [1, 2, 3, 4, 5, 6, 7, 8, 9, 10, 11, 12]\n",
        "\n",
        "for idx in range(len(names)):\n",
        "  months[numbers[idx]] = names[idx]\n",
        "months"
      ],
      "metadata": {
        "colab": {
          "base_uri": "https://localhost:8080/"
        },
        "id": "6UImeaVSy_79",
        "outputId": "6a63549b-1196-4dc4-d8ea-bc594c4d2564"
      },
      "execution_count": null,
      "outputs": [
        {
          "output_type": "execute_result",
          "data": {
            "text/plain": [
              "{1: 'Jan',\n",
              " 2: 'Feb',\n",
              " 3: 'Mar',\n",
              " 4: 'Apr',\n",
              " 5: 'May',\n",
              " 6: 'Jun',\n",
              " 7: 'Jul',\n",
              " 8: 'Aug',\n",
              " 9: 'Sep',\n",
              " 10: 'Oct',\n",
              " 11: 'Nov',\n",
              " 12: 'Dec'}"
            ]
          },
          "metadata": {},
          "execution_count": 6
        }
      ]
    },
    {
      "cell_type": "code",
      "source": [
        "#Create a dictionary: alternative way\n",
        "\n",
        "months = {}\n",
        "\n",
        "names = [\"Jan\", \"Feb\", \"Mar\", \"Apr\", \"May\", \"Jun\", \"Jul\", \"Aug\", \"Sep\", \"Oct\", \"Nov\", \"Dec\"]\n",
        "numbers = [1, 2, 3, 4, 5, 6, 7, 8, 9, 10, 11, 12]\n",
        "\n",
        "cntr = 0\n",
        "for num in numbers:\n",
        "  months[num] = names[num - 1]\n",
        "months"
      ],
      "metadata": {
        "colab": {
          "base_uri": "https://localhost:8080/"
        },
        "id": "YOU2oLulBc8-",
        "outputId": "56cdbaf2-be1c-4f73-f2c4-8cb1c377d01a"
      },
      "execution_count": null,
      "outputs": [
        {
          "output_type": "execute_result",
          "data": {
            "text/plain": [
              "{1: 'Jan',\n",
              " 10: 'Oct',\n",
              " 3: 'Mar',\n",
              " 4: 'Apr',\n",
              " 5: 'May',\n",
              " 6: 'Jun',\n",
              " 7: 'Jul',\n",
              " 8: 'Aug',\n",
              " 9: 'Sep',\n",
              " 11: 'Nov',\n",
              " 12: 'Dec'}"
            ]
          },
          "metadata": {},
          "execution_count": 9
        }
      ]
    },
    {
      "cell_type": "code",
      "source": [
        "list = {}\n",
        "\n",
        "while len(list)< 5:\n",
        "  user_input = input('Enter a string:')\n",
        "\n",
        "  if user_input in list:\n",
        "    list[user_input] += 1\n",
        "  else:\n",
        "    list [user_input] = 1\n",
        "print(list)"
      ],
      "metadata": {
        "colab": {
          "base_uri": "https://localhost:8080/"
        },
        "id": "4YlcN63STX0n",
        "outputId": "7558ca8f-72f5-4129-ef66-ebbbcf0bd538"
      },
      "execution_count": null,
      "outputs": [
        {
          "output_type": "stream",
          "name": "stdout",
          "text": [
            "Enter a string:A\n",
            "Enter a string:B\n",
            "Enter a string:c\n",
            "Enter a string:d\n",
            "Enter a string:c\n",
            "Enter a string:d\n",
            "Enter a string:h\n",
            "{'A': 1, 'B': 1, 'c': 2, 'd': 2, 'h': 1}\n"
          ]
        }
      ]
    },
    {
      "cell_type": "code",
      "source": [
        "#Parking Garage P2\n",
        "def calcFee(hours):\n",
        "  print(f'Number of hours parked: {hours}')\n",
        "  for hours in range(1,9):\n",
        "    fee = 5 + (2.5 * hours)\n",
        "  if fee < 10 :\n",
        "      fee = 10.0\n",
        "  elif fee >= 20:\n",
        "      fee = 20.0\n",
        "  print(f' Fee:{fee}$')\n",
        "\n",
        "print('Program starts...')\n",
        "numHours = int(input('Please enter number of hours parked:'))\n",
        "calcFee(numHours)"
      ],
      "metadata": {
        "colab": {
          "base_uri": "https://localhost:8080/"
        },
        "id": "BOeFOXfyXFeE",
        "outputId": "15de67b9-7c0e-49f0-b41b-0c2b0a49342b"
      },
      "execution_count": null,
      "outputs": [
        {
          "output_type": "stream",
          "name": "stdout",
          "text": [
            "Please enter number of hours parked:4\n",
            "Number of hours parked: 4\n",
            " Fee:20.0$\n"
          ]
        }
      ]
    },
    {
      "cell_type": "code",
      "source": [
        "#f ('abc') -> cba\n",
        "def fibR (n):\n",
        "  if n > 1: #inductive case\n",
        "    return fibR(n-1) +fibR(n-2)\n",
        "  else:\n",
        "      return 1\n",
        "\n",
        "fibR(5)"
      ],
      "metadata": {
        "colab": {
          "base_uri": "https://localhost:8080/"
        },
        "id": "oopeDfjWqAfy",
        "outputId": "aa50dcef-0b80-47d7-a00e-280fff203209"
      },
      "execution_count": null,
      "outputs": [
        {
          "output_type": "execute_result",
          "data": {
            "text/plain": [
              "8"
            ]
          },
          "metadata": {},
          "execution_count": 1
        }
      ]
    },
    {
      "cell_type": "code",
      "source": [
        "def reverse(s):\n",
        "  if len(s) ==1:\n",
        "    return s\n",
        "  else:\n",
        "    #return s[-1] + reverse (s[:-1])\n",
        "    #return s[-1] + reverse(s[1:-1]) + s[0]\n",
        "    return reverse(s[1:]) + s[0]\n",
        "reverse(\"Hello\")"
      ],
      "metadata": {
        "colab": {
          "base_uri": "https://localhost:8080/",
          "height": 35
        },
        "id": "0MiZ3b_d_spl",
        "outputId": "0eb5dc9d-b0ef-4df3-e27b-cf73d5d74ade"
      },
      "execution_count": null,
      "outputs": [
        {
          "output_type": "execute_result",
          "data": {
            "text/plain": [
              "'olleH'"
            ],
            "application/vnd.google.colaboratory.intrinsic+json": {
              "type": "string"
            }
          },
          "metadata": {},
          "execution_count": 4
        }
      ]
    },
    {
      "cell_type": "code",
      "source": [
        "def linear_search(arr, target):\n",
        "  for item in arr:\n",
        "    if item == target:\n"
      ],
      "metadata": {
        "id": "iQdC3-ORCjkd"
      },
      "execution_count": null,
      "outputs": []
    },
    {
      "cell_type": "code",
      "source": [
        "def calcFee(hours):\n",
        "    fee = 5 + 2.5 * hours\n",
        "    if fee < 10:\n",
        "        fee = 10.0\n",
        "    elif fee > 20:\n",
        "        fee = 20.0\n",
        "    print(f'Fee: {fee}')\n",
        "\n",
        "def main():\n",
        "  try:\n",
        "    numHours = int(input('Enter number of hours: '))\n",
        "    calcFee(numHours)\n",
        "  except ValueError:\n",
        "    print('Invalid input')\n",
        "\n",
        "if __name__ == \"__main__\":\n",
        "    main()"
      ],
      "metadata": {
        "id": "N4u_is6aDCmR"
      },
      "execution_count": null,
      "outputs": []
    },
    {
      "cell_type": "code",
      "source": [
        "def getValues(n):\n",
        "  L = []\n",
        "  for i in range(n):\n",
        "    weight = float(input('Enter weight: '))\n",
        "    L.append(weight)\n",
        "  return L\n",
        "\n",
        "def calcAverage(alist):\n",
        "  try:\n",
        "    print(f'The average weight is {sum(alist[2:]) / len(alist[2:])}')\n",
        "  except ZeroDivisionError:\n",
        "    print(f'List {alist} is empty!')\n",
        "\n",
        "if __name__ == \"__main__\":\n",
        "  try:\n",
        "    n = int(input('Enter size of list: '))\n",
        "    alist = getValues(n)\n",
        "    calcAverage(alist)\n",
        "  except ValueError:\n",
        "    print('Input cannot be casted as an int().')\n"
      ],
      "metadata": {
        "id": "X29l2W9oG0Gu"
      },
      "execution_count": null,
      "outputs": []
    },
    {
      "cell_type": "code",
      "source": [
        "#Defining the class and its method:\n",
        "class Greeting:\n",
        "    def __init__(self, first, last):\n",
        "        self.first = first\n",
        "        self.last = last\n",
        "    def display(self, formal= False):\n",
        "      if formal:\n",
        "        print(f'Hi {self.first} {self.last}')\n",
        "      else:\n",
        "        print(f'Hi {self.first}')\n",
        "    def __str__(self):\n",
        "      return f'{self.first}, {self.last}'\n",
        "\n",
        "\n",
        "Greeting = Greeting('Donald', 'Becker')\n",
        "Greeting2 = Greeting('Bob', 'Dylan')\n",
        "Greeting.display(formal=True)\n",
        "greeting.display(formal=True)\n",
        "print(greeting)"
      ],
      "metadata": {
        "id": "oNnHjJwsYMpi"
      },
      "execution_count": null,
      "outputs": []
    }
  ]
}